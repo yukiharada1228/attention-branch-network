{
 "cells": [
  {
   "cell_type": "code",
   "execution_count": null,
   "id": "3a8cb402",
   "metadata": {},
   "outputs": [],
   "source": [
    "from transformers import AutoModel, AutoImageProcessor\n",
    "import torch\n",
    "from datasets import load_dataset\n",
    "\n",
    "dataset = load_dataset(\"huggingface/cats-image\")\n",
    "image = dataset[\"test\"][\"image\"][0]\n",
    "\n",
    "processor = AutoImageProcessor.from_pretrained(\n",
    "    \"yukiharada1228/abn-resnet152\",\n",
    "    trust_remote_code=True,\n",
    ")\n",
    "model = AutoModel.from_pretrained(\n",
    "    \"yukiharada1228/abn-resnet152\",\n",
    "    trust_remote_code=True,\n",
    ")\n",
    "\n",
    "inputs = processor(images=image, return_tensors=\"pt\")\n",
    "\n",
    "# 推論\n",
    "with torch.no_grad():\n",
    "    outputs = model(**inputs)\n",
    "    logits = outputs[\"per_logits\"]  # 予測用のlogits\n",
    "    attention_map = outputs[\"att_map\"]  # アテンションマップ (B,1,H,W)\n",
    "\n",
    "# モデルは1000クラスのImageNetいずれかを予測します\n",
    "predicted_label = logits.argmax(-1).item()\n",
    "print(model.config.id2label[predicted_label])"
   ]
  },
  {
   "cell_type": "code",
   "execution_count": null,
   "id": "84fba82e",
   "metadata": {},
   "outputs": [],
   "source": [
    "# アテンションマップの可視化\n",
    "import cv2\n",
    "import matplotlib.pyplot as plt\n",
    "import numpy as np\n",
    "\n",
    "# 画像の前処理（BGR形式に変換）\n",
    "mean = [0.485, 0.456, 0.406]\n",
    "std = [0.229, 0.224, 0.225]\n",
    "img_tensor = inputs[\"pixel_values\"][0]\n",
    "img_rgb = img_tensor.cpu().numpy().transpose((1, 2, 0))\n",
    "img_rgb = (img_rgb * np.array(std) + np.array(mean)) * 255.0  # 正規化を元の画像スケール(RGB,0-255)に戻す\n",
    "img_rgb = np.clip(img_rgb, 0, 255).astype(np.uint8)\n",
    "img_bgr = cv2.cvtColor(img_rgb, cv2.COLOR_RGB2BGR)\n",
    "\n",
    "# アテンションマップを画像サイズにリサイズ\n",
    "att_map = attention_map[0, 0].cpu().numpy()  # (H, W)\n",
    "h, w = img_bgr.shape[:2]\n",
    "att_resized = cv2.resize(att_map, (w, h))\n",
    "\n",
    "# ヒートマップを生成\n",
    "att_scaled = (att_resized * 255.0).astype(np.uint8)\n",
    "jet_map = cv2.applyColorMap(att_scaled, cv2.COLORMAP_JET)\n",
    "\n",
    "# アテンションヒートマップを原画像に重ね合わせ\n",
    "overlay = cv2.add(img_bgr, jet_map)\n",
    "\n",
    "# 可視化\n",
    "plt.imshow(cv2.cvtColor(overlay, cv2.COLOR_BGR2RGB))\n",
    "plt.title(\"可視化:アテンション×原画像\")\n",
    "plt.axis('off')\n",
    "plt.show()"
   ]
  }
 ],
 "metadata": {
  "kernelspec": {
   "display_name": ".venv",
   "language": "python",
   "name": "python3"
  },
  "language_info": {
   "name": "python",
   "version": "3.12.11"
  }
 },
 "nbformat": 4,
 "nbformat_minor": 5
}
